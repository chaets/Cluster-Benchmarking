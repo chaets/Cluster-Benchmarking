{
  "nbformat": 4,
  "nbformat_minor": 0,
  "metadata": {
    "colab": {
      "name": "William_Cifar.ipynb",
      "version": "0.3.2",
      "provenance": []
    },
    "kernelspec": {
      "name": "python3",
      "display_name": "Python 3"
    },
    "accelerator": "GPU"
  },
  "cells": [
    {
      "metadata": {
        "id": "PMfSuWOXDH0h",
        "colab_type": "code",
        "outputId": "9ea7dcbf-4b30-4034-c6f4-18486da3c2b8",
        "colab": {
          "base_uri": "https://localhost:8080/",
          "height": 232
        }
      },
      "cell_type": "code",
      "source": [
        "!pip install keras_metrics\n",
        "!apt-get -qq install -y graphviz && pip install -q py\n",
        "!pip install pydot"
      ],
      "execution_count": 0,
      "outputs": [
        {
          "output_type": "stream",
          "text": [
            "Requirement already satisfied: keras_metrics in /usr/local/lib/python3.6/dist-packages (0.0.5)\n",
            "Requirement already satisfied: Keras>=2.1.5 in /usr/local/lib/python3.6/dist-packages (from keras_metrics) (2.2.4)\n",
            "Requirement already satisfied: scipy>=0.14 in /usr/local/lib/python3.6/dist-packages (from Keras>=2.1.5->keras_metrics) (1.1.0)\n",
            "Requirement already satisfied: six>=1.9.0 in /usr/local/lib/python3.6/dist-packages (from Keras>=2.1.5->keras_metrics) (1.11.0)\n",
            "Requirement already satisfied: numpy>=1.9.1 in /usr/local/lib/python3.6/dist-packages (from Keras>=2.1.5->keras_metrics) (1.14.6)\n",
            "Requirement already satisfied: keras-applications>=1.0.6 in /usr/local/lib/python3.6/dist-packages (from Keras>=2.1.5->keras_metrics) (1.0.6)\n",
            "Requirement already satisfied: pyyaml in /usr/local/lib/python3.6/dist-packages (from Keras>=2.1.5->keras_metrics) (3.13)\n",
            "Requirement already satisfied: keras-preprocessing>=1.0.5 in /usr/local/lib/python3.6/dist-packages (from Keras>=2.1.5->keras_metrics) (1.0.5)\n",
            "Requirement already satisfied: h5py in /usr/local/lib/python3.6/dist-packages (from Keras>=2.1.5->keras_metrics) (2.8.0)\n",
            "Requirement already satisfied: pydot in /usr/local/lib/python3.6/dist-packages (1.4.0)\n",
            "Requirement already satisfied: pyparsing>=2.1.4 in /usr/local/lib/python3.6/dist-packages (from pydot) (2.3.0)\n"
          ],
          "name": "stdout"
        }
      ]
    },
    {
      "metadata": {
        "id": "N7yUg6H-DK-V",
        "colab_type": "code",
        "colab": {}
      },
      "cell_type": "code",
      "source": [
        "import pandas as pd\n",
        "import numpy as np\n",
        "from sklearn.neighbors import KNeighborsClassifier\n",
        "from sklearn.model_selection import cross_validate,StratifiedKFold\n",
        "from sklearn.model_selection import train_test_split\n",
        "from sklearn.svm import SVC\n",
        "import pickle\n",
        "import keras\n",
        "from keras.models import Sequential\n",
        "from keras.layers import Dense, Dropout, Flatten\n",
        "from keras.layers import Conv2D, MaxPooling2D\n",
        "from keras.layers import Activation\n",
        "from keras.callbacks import Callback\n",
        "from sklearn.metrics import confusion_matrix, f1_score, precision_score, recall_score\n",
        "import keras_metrics\n",
        "from keras.utils import plot_model\n",
        "from keras.datasets import cifar10\n",
        "from sklearn.metrics import f1_score\n",
        "import tensorflow as tf\n"
      ],
      "execution_count": 0,
      "outputs": []
    },
    {
      "metadata": {
        "id": "CQQ8Xqv9DVC2",
        "colab_type": "code",
        "colab": {}
      },
      "cell_type": "code",
      "source": [
        "X = pd.read_csv(\"drive/My Drive/Colab Notebooks/X.csv\",sep = ' ', header=None,dtype=float)\n",
        "X = X.values\n",
        "\n",
        "y = pd.read_csv(\"drive/My Drive/Colab Notebooks/y_williams_vs_others.csv\",sep = ' ', header=None,dtype=float)\n",
        "y_bush = y.values.ravel()"
      ],
      "execution_count": 0,
      "outputs": []
    },
    {
      "metadata": {
        "id": "diTbDepeDXvP",
        "colab_type": "code",
        "outputId": "17267a8a-87c9-4fdd-91b9-90d29ca58b3b",
        "colab": {
          "base_uri": "https://localhost:8080/",
          "height": 52
        }
      },
      "cell_type": "code",
      "source": [
        "print(\"X shape\", X.shape)\n",
        "print('Y William shape', y_bush.shape)"
      ],
      "execution_count": 0,
      "outputs": [
        {
          "output_type": "stream",
          "text": [
            "X shape (13233, 4096)\n",
            "Y William shape (13233,)\n"
          ],
          "name": "stdout"
        }
      ]
    },
    {
      "metadata": {
        "id": "AU17hCs-DcCR",
        "colab_type": "code",
        "colab": {}
      },
      "cell_type": "code",
      "source": [
        "batch_size = 100\n",
        "num_classes = 2\n",
        "epochs = 30\n",
        "\n",
        "# input image dimensions\n",
        "# img_rows, img_cols = 64, 64"
      ],
      "execution_count": 0,
      "outputs": []
    },
    {
      "metadata": {
        "id": "RSbcc31aJd7g",
        "colab_type": "code",
        "colab": {}
      },
      "cell_type": "code",
      "source": [
        "x_train, x_test, y_train, y_test = train_test_split(X, y_bush, test_size=1. / 3, random_state=8854, shuffle = True, stratify = y_bush)"
      ],
      "execution_count": 0,
      "outputs": []
    },
    {
      "metadata": {
        "id": "MkuN09DMI_uC",
        "colab_type": "code",
        "colab": {}
      },
      "cell_type": "code",
      "source": [
        "x_train = x_train.reshape(-1,64,64,1)\n",
        "x_test = x_test.reshape(-1,64,64,1)"
      ],
      "execution_count": 0,
      "outputs": []
    },
    {
      "metadata": {
        "id": "UYs56Ji2DkeY",
        "colab_type": "code",
        "colab": {}
      },
      "cell_type": "code",
      "source": [
        "(x_train, y_train), (x_test, y_test) = cifar10.load_data()\n",
        "\n",
        "X_grey_train=tf.image.rgb_to_grayscale(x_train,name=None)\n",
        "X_grey_test=tf.image.rgb_to_grayscale(x_test,name=None)\n",
        "\n",
        "X_reshaped_train = tf.image.resize_images(X_grey_train,(64,64))\n",
        "X_reshaped_test = tf.image.resize_images(X_grey_test,(64,64))\n",
        "\n",
        "y_train_binary=list()\n",
        "for i in range(len(y_train)):\n",
        " if y_train[i]==5:\n",
        "   y_train_binary.append(1)\n",
        " elif y_train[i]!=5:\n",
        "   y_train_binary.append(0)"
      ],
      "execution_count": 0,
      "outputs": []
    },
    {
      "metadata": {
        "id": "N4Nbbc88Ds-m",
        "colab_type": "code",
        "colab": {}
      },
      "cell_type": "code",
      "source": [
        "y_test_binary=list()\n",
        "for i in range(len(y_test)):\n",
        " if y_test[i]==5:\n",
        "   y_test_binary.append(1)\n",
        " elif y_test[i]!=5:\n",
        "   y_test_binary.append(0)\t\n"
      ],
      "execution_count": 0,
      "outputs": []
    },
    {
      "metadata": {
        "id": "pVpGuEn6D2jn",
        "colab_type": "code",
        "colab": {}
      },
      "cell_type": "code",
      "source": [
        "y_train_binary_array=np.asanyarray(y_train_binary)\n",
        "type(y_train_binary_array)\n",
        "\n",
        "y_test_binary_array=np.asanyarray(y_test_binary)\n",
        "type(y_test_binary_array)\n",
        "\n",
        "init=tf.global_variables_initializer()\n",
        "sess=tf.Session()\n",
        "sess.run(init)\n",
        "X_reshaped_train=X_reshaped_train.eval(session=sess)\n",
        "X_reshaped_test=X_reshaped_test.eval(session=sess)"
      ],
      "execution_count": 0,
      "outputs": []
    },
    {
      "metadata": {
        "id": "Cae_bHUrEAp2",
        "colab_type": "code",
        "colab": {}
      },
      "cell_type": "code",
      "source": [
        "model = Sequential()\n",
        "\n",
        "model.add(Conv2D(64, (3, 3), input_shape=(64,64,1)))\n",
        "model.add(Activation('tanh'))\n",
        "model.add(MaxPooling2D(pool_size=(3,3)))\n",
        "\n",
        "model.add(Conv2D(64, (3,3)))\n",
        "model.add(Activation('tanh'))\n",
        "model.add(MaxPooling2D(pool_size=(2,2)))\n",
        "\n",
        "model.add(Conv2D(64, (3,3)))\n",
        "model.add(Activation('tanh'))\n",
        "model.add(MaxPooling2D(pool_size=(3,3)))\n",
        "\n",
        "model.add(Flatten())  # this converts our 3D feature maps to 1D feature vectors\n",
        "\n",
        "model.add(Dense(64))\n",
        "\n",
        "model.add(Dense(1))\n",
        "model.add(Activation('sigmoid'))"
      ],
      "execution_count": 0,
      "outputs": []
    },
    {
      "metadata": {
        "id": "oEKkSNeyE4bf",
        "colab_type": "code",
        "colab": {}
      },
      "cell_type": "code",
      "source": [
        "model.compile(loss='binary_crossentropy', optimizer=keras.optimizers.Adam(lr = 0.0001), metrics=['accuracy'])\n"
      ],
      "execution_count": 0,
      "outputs": []
    },
    {
      "metadata": {
        "id": "I-sjgbcnE7pj",
        "colab_type": "code",
        "outputId": "83e2fcc2-34bd-4770-e5bb-6ae5df1392fd",
        "colab": {
          "base_uri": "https://localhost:8080/",
          "height": 1139
        }
      },
      "cell_type": "code",
      "source": [
        "model.fit(X_reshaped_train, y_train_binary_array,\n",
        "          batch_size=batch_size,\n",
        "          epochs=epochs,\n",
        "          verbose=1,\n",
        "          validation_data=(X_reshaped_train, y_train_binary_array))"
      ],
      "execution_count": 0,
      "outputs": [
        {
          "output_type": "stream",
          "text": [
            "Train on 50000 samples, validate on 50000 samples\n",
            "Epoch 1/30\n",
            "50000/50000 [==============================] - 21s 428us/step - loss: 0.2895 - acc: 0.9001 - val_loss: 0.2655 - val_acc: 0.9034\n",
            "Epoch 2/30\n",
            "50000/50000 [==============================] - 21s 413us/step - loss: 0.2453 - acc: 0.9083 - val_loss: 0.2334 - val_acc: 0.9116\n",
            "Epoch 3/30\n",
            "50000/50000 [==============================] - 21s 415us/step - loss: 0.2273 - acc: 0.9146 - val_loss: 0.2142 - val_acc: 0.9190\n",
            "Epoch 4/30\n",
            "50000/50000 [==============================] - 21s 413us/step - loss: 0.2159 - acc: 0.9190 - val_loss: 0.2016 - val_acc: 0.9236\n",
            "Epoch 5/30\n",
            "50000/50000 [==============================] - 21s 413us/step - loss: 0.2060 - acc: 0.9221 - val_loss: 0.2143 - val_acc: 0.9174\n",
            "Epoch 6/30\n",
            "50000/50000 [==============================] - 21s 413us/step - loss: 0.1958 - acc: 0.9264 - val_loss: 0.1842 - val_acc: 0.9308\n",
            "Epoch 7/30\n",
            "50000/50000 [==============================] - 21s 413us/step - loss: 0.1882 - acc: 0.9296 - val_loss: 0.1840 - val_acc: 0.9290\n",
            "Epoch 8/30\n",
            "50000/50000 [==============================] - 21s 413us/step - loss: 0.1797 - acc: 0.9325 - val_loss: 0.1688 - val_acc: 0.9378\n",
            "Epoch 9/30\n",
            "50000/50000 [==============================] - 21s 414us/step - loss: 0.1718 - acc: 0.9346 - val_loss: 0.1600 - val_acc: 0.9395\n",
            "Epoch 10/30\n",
            "50000/50000 [==============================] - 21s 414us/step - loss: 0.1661 - acc: 0.9361 - val_loss: 0.1536 - val_acc: 0.9436\n",
            "Epoch 11/30\n",
            "50000/50000 [==============================] - 21s 414us/step - loss: 0.1575 - acc: 0.9407 - val_loss: 0.1477 - val_acc: 0.9429\n",
            "Epoch 12/30\n",
            "50000/50000 [==============================] - 21s 413us/step - loss: 0.1509 - acc: 0.9429 - val_loss: 0.1442 - val_acc: 0.9481\n",
            "Epoch 13/30\n",
            "50000/50000 [==============================] - 21s 413us/step - loss: 0.1437 - acc: 0.9453 - val_loss: 0.1333 - val_acc: 0.9531\n",
            "Epoch 14/30\n",
            "50000/50000 [==============================] - 21s 413us/step - loss: 0.1370 - acc: 0.9491 - val_loss: 0.1241 - val_acc: 0.9528\n",
            "Epoch 15/30\n",
            "50000/50000 [==============================] - 21s 414us/step - loss: 0.1297 - acc: 0.9516 - val_loss: 0.1382 - val_acc: 0.9430\n",
            "Epoch 16/30\n",
            "50000/50000 [==============================] - 21s 414us/step - loss: 0.1241 - acc: 0.9534 - val_loss: 0.1148 - val_acc: 0.9592\n",
            "Epoch 17/30\n",
            "50000/50000 [==============================] - 21s 414us/step - loss: 0.1164 - acc: 0.9572 - val_loss: 0.1100 - val_acc: 0.9635\n",
            "Epoch 18/30\n",
            "50000/50000 [==============================] - 21s 414us/step - loss: 0.1105 - acc: 0.9598 - val_loss: 0.1018 - val_acc: 0.9600\n",
            "Epoch 19/30\n",
            "50000/50000 [==============================] - 21s 414us/step - loss: 0.1022 - acc: 0.9625 - val_loss: 0.0880 - val_acc: 0.9692\n",
            "Epoch 20/30\n",
            "50000/50000 [==============================] - 21s 413us/step - loss: 0.0951 - acc: 0.9665 - val_loss: 0.0816 - val_acc: 0.9726\n",
            "Epoch 21/30\n",
            "50000/50000 [==============================] - 21s 412us/step - loss: 0.0874 - acc: 0.9692 - val_loss: 0.0743 - val_acc: 0.9761\n",
            "Epoch 22/30\n",
            "50000/50000 [==============================] - 21s 413us/step - loss: 0.0807 - acc: 0.9726 - val_loss: 0.0697 - val_acc: 0.9755\n",
            "Epoch 23/30\n",
            "50000/50000 [==============================] - 21s 414us/step - loss: 0.0740 - acc: 0.9747 - val_loss: 0.0627 - val_acc: 0.9795\n",
            "Epoch 24/30\n",
            "50000/50000 [==============================] - 21s 414us/step - loss: 0.0684 - acc: 0.9769 - val_loss: 0.0549 - val_acc: 0.9849\n",
            "Epoch 25/30\n",
            "50000/50000 [==============================] - 21s 413us/step - loss: 0.0609 - acc: 0.9802 - val_loss: 0.0481 - val_acc: 0.9878\n",
            "Epoch 26/30\n",
            "50000/50000 [==============================] - 21s 413us/step - loss: 0.0564 - acc: 0.9820 - val_loss: 0.0438 - val_acc: 0.9891\n",
            "Epoch 27/30\n",
            "50000/50000 [==============================] - 21s 414us/step - loss: 0.0483 - acc: 0.9857 - val_loss: 0.0571 - val_acc: 0.9757\n",
            "Epoch 28/30\n",
            "50000/50000 [==============================] - 21s 413us/step - loss: 0.0441 - acc: 0.9866 - val_loss: 0.0599 - val_acc: 0.9812\n",
            "Epoch 29/30\n",
            "50000/50000 [==============================] - 21s 413us/step - loss: 0.0393 - acc: 0.9878 - val_loss: 0.0323 - val_acc: 0.9916\n",
            "Epoch 30/30\n",
            "50000/50000 [==============================] - 21s 413us/step - loss: 0.0327 - acc: 0.9915 - val_loss: 0.0269 - val_acc: 0.9957\n"
          ],
          "name": "stdout"
        },
        {
          "output_type": "execute_result",
          "data": {
            "text/plain": [
              "<keras.callbacks.History at 0x7f9ed49fe080>"
            ]
          },
          "metadata": {
            "tags": []
          },
          "execution_count": 55
        }
      ]
    },
    {
      "metadata": {
        "id": "n94cz-r2Fat4",
        "colab_type": "code",
        "outputId": "7ec6f7b5-9e7c-4f3f-d8d6-bf2abafc8dbd",
        "colab": {
          "base_uri": "https://localhost:8080/",
          "height": 35
        }
      },
      "cell_type": "code",
      "source": [
        "s = model.predict_classes(X_reshaped_test)\n",
        "fscore = f1_score(y_test_binary_array,s)\n",
        "print(fscore)"
      ],
      "execution_count": 0,
      "outputs": [
        {
          "output_type": "stream",
          "text": [
            "0.5501519756838906\n"
          ],
          "name": "stdout"
        }
      ]
    },
    {
      "metadata": {
        "id": "um-UOo_OG6xd",
        "colab_type": "code",
        "outputId": "c3acb006-7715-426d-b879-446c0364967b",
        "colab": {
          "base_uri": "https://localhost:8080/",
          "height": 1139
        }
      },
      "cell_type": "code",
      "source": [
        "model.fit(x_train, y_train,\n",
        "          batch_size=batch_size,\n",
        "          epochs=epochs,\n",
        "          verbose=1,\n",
        "          validation_data=(x_test, y_test))"
      ],
      "execution_count": 0,
      "outputs": [
        {
          "output_type": "stream",
          "text": [
            "Train on 8822 samples, validate on 4411 samples\n",
            "Epoch 1/30\n",
            "8822/8822 [==============================] - 3s 393us/step - loss: 0.0263 - acc: 0.9960 - val_loss: 0.0223 - val_acc: 0.9961\n",
            "Epoch 2/30\n",
            "8822/8822 [==============================] - 3s 382us/step - loss: 0.0222 - acc: 0.9960 - val_loss: 0.0207 - val_acc: 0.9961\n",
            "Epoch 3/30\n",
            "8822/8822 [==============================] - 3s 377us/step - loss: 0.0213 - acc: 0.9960 - val_loss: 0.0193 - val_acc: 0.9961\n",
            "Epoch 4/30\n",
            "8822/8822 [==============================] - 3s 376us/step - loss: 0.0190 - acc: 0.9960 - val_loss: 0.0198 - val_acc: 0.9961\n",
            "Epoch 5/30\n",
            "8822/8822 [==============================] - 3s 381us/step - loss: 0.0180 - acc: 0.9960 - val_loss: 0.0178 - val_acc: 0.9961\n",
            "Epoch 6/30\n",
            "8822/8822 [==============================] - 3s 377us/step - loss: 0.0177 - acc: 0.9960 - val_loss: 0.0170 - val_acc: 0.9961\n",
            "Epoch 7/30\n",
            "8822/8822 [==============================] - 3s 379us/step - loss: 0.0160 - acc: 0.9960 - val_loss: 0.0168 - val_acc: 0.9961\n",
            "Epoch 8/30\n",
            "8822/8822 [==============================] - 3s 381us/step - loss: 0.0151 - acc: 0.9960 - val_loss: 0.0160 - val_acc: 0.9961\n",
            "Epoch 9/30\n",
            "8822/8822 [==============================] - 3s 374us/step - loss: 0.0143 - acc: 0.9961 - val_loss: 0.0159 - val_acc: 0.9961\n",
            "Epoch 10/30\n",
            "8822/8822 [==============================] - 3s 381us/step - loss: 0.0133 - acc: 0.9960 - val_loss: 0.0157 - val_acc: 0.9964\n",
            "Epoch 11/30\n",
            "8822/8822 [==============================] - 3s 379us/step - loss: 0.0126 - acc: 0.9961 - val_loss: 0.0151 - val_acc: 0.9961\n",
            "Epoch 12/30\n",
            "8822/8822 [==============================] - 3s 375us/step - loss: 0.0121 - acc: 0.9963 - val_loss: 0.0152 - val_acc: 0.9964\n",
            "Epoch 13/30\n",
            "8822/8822 [==============================] - 3s 383us/step - loss: 0.0113 - acc: 0.9964 - val_loss: 0.0158 - val_acc: 0.9964\n",
            "Epoch 14/30\n",
            "8822/8822 [==============================] - 3s 378us/step - loss: 0.0110 - acc: 0.9965 - val_loss: 0.0147 - val_acc: 0.9964\n",
            "Epoch 15/30\n",
            "8822/8822 [==============================] - 3s 378us/step - loss: 0.0104 - acc: 0.9967 - val_loss: 0.0142 - val_acc: 0.9961\n",
            "Epoch 16/30\n",
            "8822/8822 [==============================] - 3s 382us/step - loss: 0.0096 - acc: 0.9968 - val_loss: 0.0145 - val_acc: 0.9964\n",
            "Epoch 17/30\n",
            "8822/8822 [==============================] - 3s 379us/step - loss: 0.0090 - acc: 0.9969 - val_loss: 0.0141 - val_acc: 0.9964\n",
            "Epoch 18/30\n",
            "8822/8822 [==============================] - 3s 377us/step - loss: 0.0086 - acc: 0.9972 - val_loss: 0.0136 - val_acc: 0.9964\n",
            "Epoch 19/30\n",
            "8822/8822 [==============================] - 3s 380us/step - loss: 0.0079 - acc: 0.9975 - val_loss: 0.0135 - val_acc: 0.9964\n",
            "Epoch 20/30\n",
            "8822/8822 [==============================] - 3s 378us/step - loss: 0.0073 - acc: 0.9977 - val_loss: 0.0137 - val_acc: 0.9968\n",
            "Epoch 21/30\n",
            "8822/8822 [==============================] - 3s 381us/step - loss: 0.0074 - acc: 0.9976 - val_loss: 0.0132 - val_acc: 0.9968\n",
            "Epoch 22/30\n",
            "8822/8822 [==============================] - 3s 380us/step - loss: 0.0069 - acc: 0.9978 - val_loss: 0.0136 - val_acc: 0.9968\n",
            "Epoch 23/30\n",
            "8822/8822 [==============================] - 3s 377us/step - loss: 0.0067 - acc: 0.9981 - val_loss: 0.0135 - val_acc: 0.9964\n",
            "Epoch 24/30\n",
            "8822/8822 [==============================] - 3s 380us/step - loss: 0.0071 - acc: 0.9976 - val_loss: 0.0132 - val_acc: 0.9964\n",
            "Epoch 25/30\n",
            "8822/8822 [==============================] - 3s 378us/step - loss: 0.0059 - acc: 0.9983 - val_loss: 0.0133 - val_acc: 0.9966\n",
            "Epoch 26/30\n",
            "8822/8822 [==============================] - 3s 375us/step - loss: 0.0055 - acc: 0.9984 - val_loss: 0.0136 - val_acc: 0.9966\n",
            "Epoch 27/30\n",
            "8822/8822 [==============================] - 3s 381us/step - loss: 0.0054 - acc: 0.9984 - val_loss: 0.0124 - val_acc: 0.9971\n",
            "Epoch 28/30\n",
            "8822/8822 [==============================] - 3s 380us/step - loss: 0.0052 - acc: 0.9985 - val_loss: 0.0124 - val_acc: 0.9968\n",
            "Epoch 29/30\n",
            "8822/8822 [==============================] - 3s 378us/step - loss: 0.0049 - acc: 0.9990 - val_loss: 0.0121 - val_acc: 0.9971\n",
            "Epoch 30/30\n",
            "8822/8822 [==============================] - 3s 379us/step - loss: 0.0046 - acc: 0.9991 - val_loss: 0.0129 - val_acc: 0.9971\n"
          ],
          "name": "stdout"
        },
        {
          "output_type": "execute_result",
          "data": {
            "text/plain": [
              "<keras.callbacks.History at 0x7f9ed4fd5f28>"
            ]
          },
          "metadata": {
            "tags": []
          },
          "execution_count": 63
        }
      ]
    },
    {
      "metadata": {
        "id": "aM8-St4cHADe",
        "colab_type": "code",
        "outputId": "22797bdc-37a8-4a8d-ea06-e12ed3d82447",
        "colab": {
          "base_uri": "https://localhost:8080/",
          "height": 52
        }
      },
      "cell_type": "code",
      "source": [
        "\n",
        "s = model.predict_classes(x_train)\n",
        "fscore_train = f1_score(y_train,s)\n",
        "print('train f1 = ', fscore_train)\n",
        "\n",
        "s = model.predict_classes(x_test)\n",
        "fscore_test = f1_score(y_test,s)\n",
        "print('test f1 = ', fscore_test)"
      ],
      "execution_count": 0,
      "outputs": [
        {
          "output_type": "stream",
          "text": [
            "train f1 =  0.8333333333333333\n",
            "test f1 =  0.48\n"
          ],
          "name": "stdout"
        }
      ]
    },
    {
      "metadata": {
        "id": "7mUAPb5xHF1P",
        "colab_type": "code",
        "colab": {}
      },
      "cell_type": "code",
      "source": [
        ""
      ],
      "execution_count": 0,
      "outputs": []
    }
  ]
}